{
 "cells": [
  {
   "cell_type": "markdown",
   "metadata": {},
   "source": [
    "# GLASS model analysis"
   ]
  },
  {
   "cell_type": "markdown",
   "metadata": {},
   "source": [
    "## Imports"
   ]
  },
  {
   "cell_type": "code",
   "execution_count": 1,
   "metadata": {},
   "outputs": [],
   "source": [
    "import sys\n",
    "import os\n",
    "import numpy as np\n",
    "from matplotlib import pyplot as plt\n",
    "gleam_root = \"/Users/phdenzel/gleam\"\n",
    "sys.path.append(gleam_root)\n",
    "from gleam.glass_interface import glass_renv\n",
    "from gleam.utils.lensing import LensModel\n",
    "from gleam.utils.lensing import kappa_profile, find_einstein_radius, inertia_tensor, qpm_abphi\n",
    "from gleam.utils.plotting import viewstate_plots\n",
    "glass = glass_renv()"
   ]
  },
  {
   "cell_type": "code",
   "execution_count": 2,
   "metadata": {},
   "outputs": [
    {
     "data": {
      "text/plain": [
       "['states/SDSSJ0029-0055.state',\n",
       " 'states/SDSSJ0737+3216.state',\n",
       " 'states/SDSSJ0753+3416.state',\n",
       " 'states/SDSSJ0956+5100.state',\n",
       " 'states/SDSSJ1051+4439.state',\n",
       " 'states/SDSSJ1430+6104.state',\n",
       " 'states/SDSSJ1627-0053.state']"
      ]
     },
     "execution_count": 2,
     "metadata": {},
     "output_type": "execute_result"
    }
   ],
   "source": [
    "states = !ls states/*.state\n",
    "states"
   ]
  },
  {
   "cell_type": "code",
   "execution_count": 3,
   "metadata": {},
   "outputs": [
    {
     "data": {
      "text/plain": [
       "[<gleam.utils.lensing.LensModel at 0x117e63890>,\n",
       " <gleam.utils.lensing.LensModel at 0x108afe0d0>,\n",
       " <gleam.utils.lensing.LensModel at 0x108afe6d0>,\n",
       " <gleam.utils.lensing.LensModel at 0x108afe250>,\n",
       " <gleam.utils.lensing.LensModel at 0x117e72490>,\n",
       " <gleam.utils.lensing.LensModel at 0x108adf310>,\n",
       " <gleam.utils.lensing.LensModel at 0x117e98f90>]"
      ]
     },
     "execution_count": 3,
     "metadata": {},
     "output_type": "execute_result"
    }
   ],
   "source": [
    "models = [LensModel(f) for f in states]\n",
    "models"
   ]
  },
  {
   "cell_type": "code",
   "execution_count": 20,
   "metadata": {
    "scrolled": true
   },
   "outputs": [
    {
     "name": "stdout",
     "output_type": "stream",
     "text": [
      "SDSSJ0029-0055\n",
      "M_tot [1e11 M_sol] = 1.4817_{-0.0911}^{+0.0996}\n",
      "R_M [arcsec] = 1.2746\n",
      "SDSSJ0737+3216\n",
      "M_tot [1e11 M_sol] = 4.0940_{-0.2697}^{+0.2736}\n",
      "R_M [arcsec] = 1.4571\n",
      "SDSSJ0753+3416\n",
      "M_tot [1e11 M_sol] = 1.4669_{-0.0675}^{+0.0733}\n",
      "R_M [arcsec] = 1.6240\n",
      "SDSSJ0956+5100\n",
      "M_tot [1e11 M_sol] = 5.3378_{-0.3415}^{+0.3513}\n",
      "R_M [arcsec] = 1.9437\n",
      "SDSSJ1051+4439\n",
      "M_tot [1e11 M_sol] = 2.9470_{-0.2029}^{+0.1982}\n",
      "R_M [arcsec] = 1.9874\n",
      "SDSSJ1430+6104\n",
      "M_tot [1e11 M_sol] = 1.8337_{-0.1460}^{+0.1786}\n",
      "R_M [arcsec] = 1.6287\n",
      "SDSSJ1627-0053\n",
      "M_tot [1e11 M_sol] = 3.0916_{-0.1407}^{+0.2111}\n",
      "R_M [arcsec] = 1.7368\n"
     ]
    }
   ],
   "source": [
    "for m in models:\n",
    "    print(m.obj_name)\n",
    "    M_tot = []\n",
    "    for i in range(-1, m.N):\n",
    "        M = (np.sum(m.kappa*m.kappa_grid(model_index=i, refined=True)*m.pixel_size**2))/m.dlsds\n",
    "        M_tot.append(M)\n",
    "    M_min, M_max, M_ens = min(M_tot), max(M_tot), M_tot[0]\n",
    "    print(\"M_tot [1e11 M_sol] = {:2.4f}_{{-{:2.4f}}}^{{+{:2.4f}}}\".format(M_ens/1e11, abs(M_ens-M_min)/1e11, abs(M_ens-M_max)/1e11))\n",
    "    print(\"R_M [arcsec] = {:1.4f}\".format(m.maprad))\n",
    "    # print(\"{:e}\".format(m.env.ensemble_average['obj,data'][0][1]['M(<R)'][-1]))"
   ]
  },
  {
   "cell_type": "code",
   "execution_count": 5,
   "metadata": {},
   "outputs": [
    {
     "name": "stdout",
     "output_type": "stream",
     "text": [
      "SDSSJ0029-0055\n",
      "SDSSJ0737+3216\n",
      "SDSSJ0753+3416\n",
      "SDSSJ0956+5100\n",
      "SDSSJ1051+4439\n",
      "SDSSJ1430+6104\n",
      "SDSSJ1627-0053\n"
     ]
    }
   ],
   "source": [
    "# Calculate all kappa profiles\n",
    "kappa_profiles = {}\n",
    "for m in models:\n",
    "    print(m.obj_name)\n",
    "    kappa_profiles[m.obj_name] = []\n",
    "    for i in range(-1, m.N):\n",
    "        kp = kappa_profile(m, mdl_index=i)\n",
    "        kappa_profiles[m.obj_name].append(kp)"
   ]
  },
  {
   "cell_type": "code",
   "execution_count": 6,
   "metadata": {},
   "outputs": [],
   "source": [
    "%%script false\n",
    "r, kp = kappa_profiles['SDSSJ0029-0055'][0]\n",
    "plt.plot(r, kp)\n",
    "plt.show()"
   ]
  },
  {
   "cell_type": "code",
   "execution_count": 7,
   "metadata": {},
   "outputs": [
    {
     "name": "stdout",
     "output_type": "stream",
     "text": [
      "SDSSJ0029-0055\n",
      "R_Einstein = 0.9657_{-0.0371}^{+0.0352}\n",
      "SDSSJ0737+3216\n",
      "R_Einstein = 1.0252_{-0.0488}^{+0.0501}\n",
      "SDSSJ0753+3416\n",
      "R_Einstein = 1.3137_{-0.0427}^{+0.0371}\n",
      "SDSSJ0956+5100\n",
      "R_Einstein = 1.3956_{-0.0512}^{+0.0502}\n",
      "SDSSJ1051+4439\n",
      "R_Einstein = 1.4956_{-0.0652}^{+0.0650}\n",
      "SDSSJ1430+6104\n",
      "R_Einstein = 1.1528_{-0.0625}^{+0.0933}\n",
      "SDSSJ1627-0053\n",
      "R_Einstein = 1.2667_{-0.0320}^{+0.0315}\n"
     ]
    }
   ],
   "source": [
    "# Calculate Einstein radii from profiles\n",
    "einstein_radii = {}\n",
    "for m in models:\n",
    "    print(m.obj_name)\n",
    "    einstein_radii[m.obj_name] = []\n",
    "    profiles = kappa_profiles[m.obj_name]\n",
    "    for i, (r, kp) in enumerate(profiles):\n",
    "        r_E = find_einstein_radius(r, kp)\n",
    "        einstein_radii[m.obj_name].append(r_E)\n",
    "    r_min = min(einstein_radii[m.obj_name])\n",
    "    r_max = max(einstein_radii[m.obj_name])\n",
    "    r_ens = einstein_radii[m.obj_name][0]\n",
    "    print(\"R_Einstein = {:4.4f}_{{-{:4.4f}}}^{{+{:4.4f}}}\".format(r_ens, abs(r_ens-r_min), abs(r_ens-r_max)))"
   ]
  },
  {
   "cell_type": "code",
   "execution_count": 8,
   "metadata": {},
   "outputs": [
    {
     "name": "stdout",
     "output_type": "stream",
     "text": [
      "SDSSJ0029-0055\n",
      "a = 1.0316_{-0.0606}^{+0.0651}\n",
      "b = 0.9521_{-0.0780}^{+0.0639}\n",
      "q = 0.9229_{-0.0860}^{+0.0736}\n",
      "\\phi = 63.3156_{-49.2938}^{+71.3082}\n",
      "SDSSJ0737+3216\n",
      "a = 1.1800_{-0.0671}^{+0.0629}\n",
      "b = 1.1226_{-0.0851}^{+0.0710}\n",
      "q = 0.9513_{-0.0917}^{+0.0464}\n",
      "\\phi = 93.3654_{-91.3879}^{+85.8858}\n",
      "SDSSJ0753+3416\n",
      "a = 1.2620_{-0.0718}^{+0.0814}\n",
      "b = 1.2356_{-0.0930}^{+0.0629}\n",
      "q = 0.9790_{-0.0989}^{+0.0200}\n",
      "\\phi = 135.8942_{-135.8102}^{+44.0812}\n",
      "SDSSJ0956+5100\n",
      "a = 1.5595_{-0.0934}^{+0.1272}\n",
      "b = 1.4964_{-0.1240}^{+0.0761}\n",
      "q = 0.9595_{-0.1168}^{+0.0387}\n",
      "\\phi = 61.0554_{-59.7405}^{+118.2575}\n",
      "SDSSJ1051+4439\n",
      "a = 1.6253_{-0.1023}^{+0.1138}\n",
      "b = 1.4869_{-0.1508}^{+0.1093}\n",
      "q = 0.9148_{-0.0873}^{+0.0757}\n",
      "\\phi = 15.7759_{-15.7149}^{+164.2143}\n",
      "SDSSJ1430+6104\n",
      "a = 1.3045_{-0.0636}^{+0.0983}\n",
      "b = 1.2889_{-0.0862}^{+0.0469}\n",
      "q = 0.9880_{-0.1060}^{+0.0115}\n",
      "\\phi = 88.2828_{-86.8176}^{+91.5621}\n",
      "SDSSJ1627-0053\n",
      "a = 1.4169_{-0.0693}^{+0.0874}\n",
      "b = 1.3008_{-0.0787}^{+0.0794}\n",
      "q = 0.9181_{-0.0664}^{+0.0632}\n",
      "\\phi = 4.5037_{-4.4554}^{+175.4625}\n"
     ]
    }
   ],
   "source": [
    "# Calculate quadrupole\n",
    "abphi = {}\n",
    "for m in models:\n",
    "    print(m.obj_name)\n",
    "    abphi[m.obj_name] = [[], [], [], []]\n",
    "    for i in range(-1, m.N):\n",
    "        kgrid = m.kappa_grid(model_index=i, refined=True)\n",
    "        px = m.pixel_size\n",
    "        qpm = inertia_tensor(kgrid, pixel_scale=px, com_correct=False)\n",
    "        a, b, phi = qpm_abphi(qpm)\n",
    "        abphi[m.obj_name][0].append(a)\n",
    "        abphi[m.obj_name][1].append(b)\n",
    "        abphi[m.obj_name][2].append(phi)\n",
    "        abphi[m.obj_name][3].append(b/a)\n",
    "    a_min, a_max, a_ens = min(abphi[m.obj_name][0]), max(abphi[m.obj_name][0]), abphi[m.obj_name][0][0]\n",
    "    b_min, b_max, b_ens = min(abphi[m.obj_name][1]), max(abphi[m.obj_name][1]), abphi[m.obj_name][1][0]\n",
    "    q_min, q_max, q_ens = min(abphi[m.obj_name][3]), max(abphi[m.obj_name][3]), abphi[m.obj_name][3][0]\n",
    "    phi_min, phi_max, phi_ens = min(abphi[m.obj_name][2]), max(abphi[m.obj_name][2]), abphi[m.obj_name][2][0]\n",
    "    phi_min *= 180/np.pi\n",
    "    phi_max *= 180/np.pi\n",
    "    phi_ens *= 180/np.pi\n",
    "    print(\"a = {:4.4f}_{{-{:4.4f}}}^{{+{:4.4f}}}\".format(a_ens, abs(a_ens-a_min), abs(a_ens-a_max)))\n",
    "    print(\"b = {:4.4f}_{{-{:4.4f}}}^{{+{:4.4f}}}\".format(b_ens, abs(b_ens-b_min), abs(b_ens-b_max)))\n",
    "    print(\"q = {:4.4f}_{{-{:4.4f}}}^{{+{:4.4f}}}\".format(q_ens, abs(q_ens-q_min), abs(q_ens-q_max)))\n",
    "    print(\"\\phi = {:4.4f}_{{-{:4.4f}}}^{{+{:4.4f}}}\".format(phi_ens, abs(phi_ens-phi_min), abs(phi_ens-phi_max)))\n",
    "    "
   ]
  }
 ],
 "metadata": {
  "kernelspec": {
   "display_name": "Python 2",
   "language": "python",
   "name": "python2"
  },
  "language_info": {
   "codemirror_mode": {
    "name": "ipython",
    "version": 2
   },
   "file_extension": ".py",
   "mimetype": "text/x-python",
   "name": "python",
   "nbconvert_exporter": "python",
   "pygments_lexer": "ipython2",
   "version": "2.7.15"
  }
 },
 "nbformat": 4,
 "nbformat_minor": 2
}
