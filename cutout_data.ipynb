{
 "cells": [
  {
   "cell_type": "markdown",
   "metadata": {},
   "source": [
    "# Cutout data from fits files"
   ]
  },
  {
   "cell_type": "markdown",
   "metadata": {},
   "source": [
    "## Imports"
   ]
  },
  {
   "cell_type": "code",
   "execution_count": null,
   "metadata": {},
   "outputs": [],
   "source": [
    "import sys\n",
    "import os\n",
    "import pprint\n",
    "import json\n",
    "import numpy as np\n",
    "import matplotlib.pyplot as plt\n",
    "import ipywidgets as widgets\n",
    "\n",
    "from astropy.io import fits\n",
    "from astropy.wcs import WCS\n",
    "from astropy.nddata import Cutout2D\n",
    "\n",
    "root = \"/Users/phdenzel/gleam\"\n",
    "sys.path.append(root)\n",
    "import gleam\n",
    "from gleam.lensobject import LensObject\n",
    "from gleam.multilens import MultiLens\n",
    "from gleam.utils.plotting import IPColorbar, IPPointCache\n",
    "import gleam.utils.colors as gcl\n",
    "gcl.GLEAMcmaps.register_all()"
   ]
  },
  {
   "cell_type": "markdown",
   "metadata": {},
   "source": [
    "## Main"
   ]
  },
  {
   "cell_type": "markdown",
   "metadata": {},
   "source": [
    "### Search for a fits file"
   ]
  },
  {
   "cell_type": "code",
   "execution_count": null,
   "metadata": {},
   "outputs": [],
   "source": [
    "fidx = 5\n",
    "files = !ls data/*/*[0-9]_field.fits\n",
    "pprint.pprint(files)\n",
    "filename = files[fidx]\n",
    "lensname = os.path.basename(filename).split('.')[0]\n",
    "print(\"Selected file: {}\".format(lensname))"
   ]
  },
  {
   "cell_type": "markdown",
   "metadata": {},
   "source": [
    "### Read fits file and extract data"
   ]
  },
  {
   "cell_type": "code",
   "execution_count": null,
   "metadata": {},
   "outputs": [],
   "source": [
    "hdu = fits.open(filename)\n",
    "for h in hdu:\n",
    "    if isinstance(h, fits.hdu.image.ImageHDU):\n",
    "        hdu = h\n",
    "        break\n",
    "if isinstance(hdu, list):\n",
    "    hdu = hdu[0]\n",
    "print(hdu)\n",
    "print(hdu.data.shape)\n",
    "print(repr(hdu.header))\n",
    "\n",
    "position = [p//2 for p in hdu.data.shape]"
   ]
  },
  {
   "cell_type": "code",
   "execution_count": null,
   "metadata": {},
   "outputs": [],
   "source": [
    "lo = LensObject(filename, auto=False, glscfactory_options={})\n",
    "print(lo.__v__)"
   ]
  },
  {
   "cell_type": "markdown",
   "metadata": {},
   "source": [
    "### Plot the data"
   ]
  },
  {
   "cell_type": "code",
   "execution_count": null,
   "metadata": {},
   "outputs": [],
   "source": [
    "%matplotlib notebook\n",
    "\n",
    "fig, ax = plt.subplots()\n",
    "fig, ax, plt_out = lo.plot_f(fig, ax=ax, cmap=gcl.GLEAMcmaps.vilux, colorbar=True,\n",
    "                             vmin=0, vmax=0.5*np.max(lo.data), source_images=False,\n",
    "                             deconv=False, psf=np.ones((3, 3))/25.)\n",
    "clrbar = IPColorbar(plt_out[1], plt_out[0])\n",
    "clrbar.connect()\n",
    "cache = IPPointCache(plt_out[0])\n",
    "cid = cache.connect()"
   ]
  },
  {
   "cell_type": "code",
   "execution_count": null,
   "metadata": {},
   "outputs": [],
   "source": [
    "if cache.xy:\n",
    "    position = cache.xy[-1]\n",
    "else:\n",
    "    position = None\n",
    "plt.close()\n",
    "print(\"Cutout center @ {}\".format(position))"
   ]
  },
  {
   "cell_type": "code",
   "execution_count": null,
   "metadata": {},
   "outputs": [],
   "source": [
    "fs = fig.axes[0].viewLim\n",
    "delta = int(0.5 + max(abs(fs.x1-fs.x0), abs(fs.y1-fs.y0)))\n",
    "delta = int(np.ceil(delta / 99.0)) * 99\n",
    "size = (delta, delta) if delta < hdu.data.shape[0] else hdu.data.shape\n",
    "if size == hdu.data.shape:\n",
    "    position = tuple(s//2 for s in hdu.data.shape)\n",
    "print(\"position: {}\".format(position), \"size: {}\".format(size))"
   ]
  },
  {
   "cell_type": "markdown",
   "metadata": {},
   "source": [
    "### Ovewrite fits file and plot again"
   ]
  },
  {
   "cell_type": "code",
   "execution_count": null,
   "metadata": {},
   "outputs": [],
   "source": [
    "wcs = WCS(hdu.header)\n",
    "cutout = Cutout2D(hdu.data, position, size, wcs)\n",
    "hdu.data = cutout.data\n",
    "hdu.header.update(cutout.wcs.to_header())"
   ]
  },
  {
   "cell_type": "code",
   "execution_count": null,
   "metadata": {
    "scrolled": false
   },
   "outputs": [],
   "source": [
    "# show again for validation\n",
    "%matplotlib notebook\n",
    "\n",
    "fig, ax = plt.subplots()\n",
    "pltdta = hdu.data[:]\n",
    "# pltdta = np.log10(pltdta+1+np.abs(np.nanmin(pltdta)))\n",
    "plt_out = ax.imshow(pltdta, cmap=gcl.GLEAMcmaps.vilux, vmin=0, vmax=0.5*np.max(pltdta))\n",
    "cbar = plt.colorbar(plt_out, cax=ax)\n",
    "clrbar = IPColorbar(cbar, plt_out)\n",
    "clrbar.connect()"
   ]
  },
  {
   "cell_type": "markdown",
   "metadata": {},
   "source": [
    "### Save file"
   ]
  },
  {
   "cell_type": "code",
   "execution_count": null,
   "metadata": {},
   "outputs": [],
   "source": [
    "savename = \"{}.fits\".format(os.path.dirname(filename.replace('_field', '')))\n",
    "print(\"Saving {}...\".format(savename))"
   ]
  },
  {
   "cell_type": "code",
   "execution_count": null,
   "metadata": {},
   "outputs": [],
   "source": [
    "hdu.writeto(savename, overwrite=True)"
   ]
  },
  {
   "cell_type": "code",
   "execution_count": null,
   "metadata": {},
   "outputs": [],
   "source": []
  }
 ],
 "metadata": {
  "kernelspec": {
   "display_name": "Python 2",
   "language": "python",
   "name": "python2"
  },
  "language_info": {
   "codemirror_mode": {
    "name": "ipython",
    "version": 2
   },
   "file_extension": ".py",
   "mimetype": "text/x-python",
   "name": "python",
   "nbconvert_exporter": "python",
   "pygments_lexer": "ipython2",
   "version": "2.7.15"
  }
 },
 "nbformat": 4,
 "nbformat_minor": 2
}
