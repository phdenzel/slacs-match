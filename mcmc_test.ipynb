{
 "nbformat": 4,
 "nbformat_minor": 2,
 "metadata": {
  "language_info": {
   "name": "python",
   "codemirror_mode": {
    "name": "ipython",
    "version": 2
   },
   "version": "2.7.15-final"
  },
  "orig_nbformat": 2,
  "file_extension": ".py",
  "mimetype": "text/x-python",
  "name": "python",
  "npconvert_exporter": "python",
  "pygments_lexer": "ipython2",
  "version": 2,
  "kernelspec": {
   "name": "python271564bitd942312e7b7943e19baa3c7e3a3a5111",
   "display_name": "Python 2.7.15 64-bit"
  }
 },
 "cells": [
  {
   "cell_type": "markdown",
   "metadata": {},
   "source": [
    "# Testing PHD MCMC"
   ],
   "execution_count": null,
   "outputs": []
  },
  {
   "cell_type": "markdown",
   "metadata": {},
   "source": [
    "## Imports"
   ],
   "execution_count": null,
   "outputs": []
  },
  {
   "cell_type": "code",
   "execution_count": null,
   "metadata": {},
   "outputs": [],
   "source": [
    "import numpy as np\n",
    "import scipy as sp\n",
    "from matplotlib import pyplot as plt\n",
    "import corner\n",
    "import phdmcmc"
   ]
  },
  {
   "cell_type": "markdown",
   "metadata": {},
   "source": [
    "## Setting up"
   ],
   "execution_count": null,
   "outputs": []
  },
  {
   "cell_type": "code",
   "execution_count": null,
   "metadata": {},
   "outputs": [],
   "source": [
    "np.random.seed(42)\n",
    "\n",
    "# Choose the \"true\" parameters.\n",
    "m_true = -0.9594\n",
    "b_true = 4.294\n",
    "f_true = 0.534\n",
    "\n",
    "# Generate some synthetic data from the model.\n",
    "N = 50\n",
    "x = np.sort(10 * np.random.rand(N))\n",
    "yerr = 0.1 + 0.5 * np.random.rand(N)\n",
    "y = m_true * x + b_true\n",
    "y += np.abs(f_true * y) * np.random.randn(N)\n",
    "y += yerr * np.random.randn(N)"
   ]
  },
  {
   "cell_type": "code",
   "execution_count": null,
   "metadata": {},
   "outputs": [],
   "source": [
    "def log_prior(theta, **kwargs):\n",
    "    m, b, log_f = theta\n",
    "    if -5.0 < m < 5.0 and -5.0 < b < 10.0 and -10.0 < log_f < 10.0:\n",
    "        return 0.0, theta\n",
    "    return -np.inf, theta"
   ]
  },
  {
   "cell_type": "code",
   "execution_count": null,
   "metadata": {},
   "outputs": [],
   "source": [
    "def log_likelihood(theta, args=(), **kwargs):\n",
    "    m, b, log_f = theta\n",
    "    x, y, yerr = args\n",
    "    model = m * x + b\n",
    "    sigma2 = yerr**2 + model**2 * np.exp(2*log_f)\n",
    "    return -0.5 * np.sum((y - model)**2 / sigma2)\n",
    "\n",
    "# + np.log(sigma2)"
   ]
  },
  {
   "cell_type": "code",
   "execution_count": null,
   "metadata": {},
   "outputs": [],
   "source": [
    "pos = (np.random.randn(100, 3) + 1) * np.array([-1, 4, 1])\n",
    "nwalkers, ndim = pos.shape\n",
    "\n",
    "print(\"nwalkers: {}\".format(nwalkers))\n",
    "print(\"ndim: {}\".format(ndim))\n",
    "print(pos[0])"
   ]
  },
  {
   "cell_type": "markdown",
   "metadata": {},
   "source": [
    "## MCMC run"
   ],
   "execution_count": null,
   "outputs": []
  },
  {
   "cell_type": "code",
   "execution_count": null,
   "metadata": {
    "tags": [
     "outputPrepend",
     "outputPrepend",
     "outputPrepend",
     "outputPrepend",
     "outputPrepend",
     "outputPrepend",
     "outputPrepend",
     "outputPrepend",
     "outputPrepend"
    ]
   },
   "outputs": [],
   "source": [
    "%%time\n",
    "full_acc, full_rej, full_probs, full_priors = \\\n",
    "    phdmcmc.mcmc_mh(log_likelihood, log_prior, pos, args=(x, y, yerr), stepsize=0.05,\n",
    "                    nwalkers=nwalkers, iterations=50000, verbose=False)"
   ]
  },
  {
   "cell_type": "code",
   "execution_count": null,
   "metadata": {},
   "outputs": [],
   "source": [
    "print len(full_acc[0])\n",
    "print len(full_rej[0])"
   ]
  },
  {
   "cell_type": "code",
   "execution_count": null,
   "metadata": {},
   "outputs": [],
   "source": [
    "%%time\n",
    "acc, rej, probs, priors = phdmcmc.flat_chain(full_acc, full_rej, full_probs, full_priors, discard=0.1)\n",
    "print acc.shape, rej.shape"
   ]
  },
  {
   "cell_type": "code",
   "execution_count": null,
   "metadata": {},
   "outputs": [],
   "source": [
    "plt.plot(np.asarray(full_acc)[:, :, 0], \"k\", alpha=0.3)\n",
    "plt.show()\n",
    "plt.plot(np.asarray(full_acc)[:, :, 1], \"k\", alpha=0.3)\n",
    "plt.show()\n",
    "plt.plot(np.asarray(full_acc)[:, :, 2], \"k\", alpha=0.3)\n",
    "plt.show()"
   ]
  },
  {
   "cell_type": "code",
   "execution_count": null,
   "metadata": {},
   "outputs": [],
   "source": [
    "plt.hist2d(acc[:, 0], acc[:, 1], cmap='viridis', bins=40)\n",
    "plt.plot(m_true, b_true, 'ro', ms=1.0)\n",
    "plt.show()\n",
    "\n",
    "# corner.corner(acc, color='#3F3D92', truths=[m_true, b_true, np.log(f_true)])"
   ]
  },
  {
   "cell_type": "code",
   "execution_count": null,
   "metadata": {},
   "outputs": [],
   "source": [
    "m_mcmc = np.percentile(acc[:, 0], [16, 50, 84])\n",
    "b_mcmc = np.percentile(acc[:, 1], [16, 50, 84])\n",
    "logf_mcmc = np.percentile(acc[:, 2], [16, 50, 84])\n",
    "\n",
    "print(m_mcmc, m_true)\n",
    "print(b_mcmc, b_true)\n",
    "print(logf_mcmc, f_true)"
   ]
  }
 ]
}