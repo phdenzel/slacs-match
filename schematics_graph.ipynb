{
 "cells": [
  {
   "cell_type": "code",
   "execution_count": 39,
   "metadata": {},
   "outputs": [
    {
     "ename": "AttributeError",
     "evalue": "'str' object has no attribute '_functions'",
     "output_type": "error",
     "traceback": [
      "\u001b[0;31m---------------------------------------------------------------------------\u001b[0m",
      "\u001b[0;31mAttributeError\u001b[0m                            Traceback (most recent call last)",
      "\u001b[0;32m<ipython-input-39-e1ad2fb867fc>\u001b[0m in \u001b[0;36m<module>\u001b[0;34m\u001b[0m\n\u001b[1;32m     12\u001b[0m \u001b[0mpreprocess\u001b[0m \u001b[0;34m=\u001b[0m \u001b[0mComposer\u001b[0m\u001b[0;34m(\u001b[0m\u001b[0;34m)\u001b[0m\u001b[0;34m.\u001b[0m\u001b[0mupdate\u001b[0m\u001b[0;34m(\u001b[0m\u001b[0mSEAGLE\u001b[0m\u001b[0;34m)\u001b[0m\u001b[0;34m\u001b[0m\u001b[0m\n\u001b[1;32m     13\u001b[0m \u001b[0mcatcompile\u001b[0m \u001b[0;34m=\u001b[0m \u001b[0mpreprocess\u001b[0m\u001b[0;34m.\u001b[0m\u001b[0mupdate\u001b[0m\u001b[0;34m(\u001b[0m\u001b[0mcatalogue\u001b[0m\u001b[0;34m)\u001b[0m\u001b[0;34m\u001b[0m\u001b[0m\n\u001b[0;32m---> 14\u001b[0;31m \u001b[0mcatcompile\u001b[0m\u001b[0;34m.\u001b[0m\u001b[0mupdate_namespaces\u001b[0m\u001b[0;34m(\u001b[0m\u001b[0mpreprocess\u001b[0m\u001b[0;34m=\u001b[0m\u001b[0;34m'SEAGLE'\u001b[0m\u001b[0;34m)\u001b[0m\u001b[0;34m\u001b[0m\u001b[0m\n\u001b[0m",
      "\u001b[0;32m/Library/Frameworks/Python.framework/Versions/3.7/lib/python3.7/site-packages/fn_graph/__init__.py\u001b[0m in \u001b[0;36mupdate_namespaces\u001b[0;34m(self, **namespaces)\u001b[0m\n\u001b[1;32m    174\u001b[0m                     },\n\u001b[1;32m    175\u001b[0m                 }\n\u001b[0;32m--> 176\u001b[0;31m                 \u001b[0;32mfor\u001b[0m \u001b[0marg\u001b[0m \u001b[0;32min\u001b[0m \u001b[0;34m[\u001b[0m\u001b[0;34m\"_functions\"\u001b[0m\u001b[0;34m,\u001b[0m \u001b[0;34m\"_parameters\"\u001b[0m\u001b[0;34m]\u001b[0m\u001b[0;34m\u001b[0m\u001b[0m\n\u001b[0m\u001b[1;32m    177\u001b[0m             }\n\u001b[1;32m    178\u001b[0m         )\n",
      "\u001b[0;32m/Library/Frameworks/Python.framework/Versions/3.7/lib/python3.7/site-packages/fn_graph/__init__.py\u001b[0m in \u001b[0;36m<dictcomp>\u001b[0;34m(.0)\u001b[0m\n\u001b[1;32m    174\u001b[0m                     },\n\u001b[1;32m    175\u001b[0m                 }\n\u001b[0;32m--> 176\u001b[0;31m                 \u001b[0;32mfor\u001b[0m \u001b[0marg\u001b[0m \u001b[0;32min\u001b[0m \u001b[0;34m[\u001b[0m\u001b[0;34m\"_functions\"\u001b[0m\u001b[0;34m,\u001b[0m \u001b[0;34m\"_parameters\"\u001b[0m\u001b[0;34m]\u001b[0m\u001b[0;34m\u001b[0m\u001b[0m\n\u001b[0m\u001b[1;32m    177\u001b[0m             }\n\u001b[1;32m    178\u001b[0m         )\n",
      "\u001b[0;32m/Library/Frameworks/Python.framework/Versions/3.7/lib/python3.7/site-packages/fn_graph/__init__.py\u001b[0m in \u001b[0;36m<dictcomp>\u001b[0;34m(.0)\u001b[0m\n\u001b[1;32m    171\u001b[0m                         \u001b[0;34m\"__\"\u001b[0m\u001b[0;34m.\u001b[0m\u001b[0mjoin\u001b[0m\u001b[0;34m(\u001b[0m\u001b[0;34m[\u001b[0m\u001b[0mnamespace\u001b[0m\u001b[0;34m,\u001b[0m \u001b[0mk\u001b[0m\u001b[0;34m]\u001b[0m\u001b[0;34m)\u001b[0m\u001b[0;34m:\u001b[0m \u001b[0mvalue\u001b[0m\u001b[0;34m\u001b[0m\u001b[0m\n\u001b[1;32m    172\u001b[0m                         \u001b[0;32mfor\u001b[0m \u001b[0mnamespace\u001b[0m\u001b[0;34m,\u001b[0m \u001b[0mcomposer\u001b[0m \u001b[0;32min\u001b[0m \u001b[0mnamespaces\u001b[0m\u001b[0;34m.\u001b[0m\u001b[0mitems\u001b[0m\u001b[0;34m(\u001b[0m\u001b[0;34m)\u001b[0m\u001b[0;34m\u001b[0m\u001b[0m\n\u001b[0;32m--> 173\u001b[0;31m                         \u001b[0;32mfor\u001b[0m \u001b[0mk\u001b[0m\u001b[0;34m,\u001b[0m \u001b[0mvalue\u001b[0m \u001b[0;32min\u001b[0m \u001b[0mgetattr\u001b[0m\u001b[0;34m(\u001b[0m\u001b[0mcomposer\u001b[0m\u001b[0;34m,\u001b[0m \u001b[0marg\u001b[0m\u001b[0;34m)\u001b[0m\u001b[0;34m.\u001b[0m\u001b[0mitems\u001b[0m\u001b[0;34m(\u001b[0m\u001b[0;34m)\u001b[0m\u001b[0;34m\u001b[0m\u001b[0m\n\u001b[0m\u001b[1;32m    174\u001b[0m                     },\n\u001b[1;32m    175\u001b[0m                 }\n",
      "\u001b[0;31mAttributeError\u001b[0m: 'str' object has no attribute '_functions'"
     ]
    }
   ],
   "source": [
    "from fn_graph import Composer\n",
    "\n",
    "def hydrodynamical_simulations():\n",
    "    return data\n",
    "\n",
    "def SEAGLE(hydrodynamical_simulations, observations):\n",
    "    return hydrodynamical_simulations * observations\n",
    "\n",
    "def catalogue(SEAGLE):\n",
    "    return SEAGLE\n",
    "\n",
    "preprocess = Composer().update(SEAGLE)\n",
    "catcompile = preprocess.update(catalogue)\n",
    "catcompile.update_namespaces(preprocess='SEAGLE')\n"
   ]
  },
  {
   "cell_type": "code",
   "execution_count": 40,
   "metadata": {},
   "outputs": [
    {
     "data": {
      "image/svg+xml": [
       "<?xml version=\"1.0\" encoding=\"UTF-8\" standalone=\"no\"?>\n",
       "<!DOCTYPE svg PUBLIC \"-//W3C//DTD SVG 1.1//EN\"\n",
       " \"http://www.w3.org/Graphics/SVG/1.1/DTD/svg11.dtd\">\n",
       "<!-- Generated by graphviz version 2.44.1 (20200629.0846)\n",
       " -->\n",
       "<!-- Pages: 1 -->\n",
       "<svg width=\"232pt\" height=\"190pt\"\n",
       " viewBox=\"0.00 0.00 231.50 190.00\" xmlns=\"http://www.w3.org/2000/svg\" xmlns:xlink=\"http://www.w3.org/1999/xlink\">\n",
       "<g id=\"graph0\" class=\"graph\" transform=\"scale(1 1) rotate(0) translate(4 186)\">\n",
       "<polygon fill=\"white\" stroke=\"transparent\" points=\"-4,4 -4,-186 227.5,-186 227.5,4 -4,4\"/>\n",
       "<!-- SEAGLE -->\n",
       "<g id=\"node1\" class=\"node\">\n",
       "<title>SEAGLE</title>\n",
       "<path fill=\"lightgrey\" stroke=\"black\" d=\"M139.5,-110C139.5,-110 92.5,-110 92.5,-110 86.5,-110 80.5,-104 80.5,-98 80.5,-98 80.5,-86 80.5,-86 80.5,-80 86.5,-74 92.5,-74 92.5,-74 139.5,-74 139.5,-74 145.5,-74 151.5,-80 151.5,-86 151.5,-86 151.5,-98 151.5,-98 151.5,-104 145.5,-110 139.5,-110\"/>\n",
       "<text text-anchor=\"middle\" x=\"116\" y=\"-88.3\" font-family=\"arial\" font-size=\"14.00\">SEAGLE</text>\n",
       "</g>\n",
       "<!-- catalogue -->\n",
       "<g id=\"node2\" class=\"node\">\n",
       "<title>catalogue</title>\n",
       "<path fill=\"lightgrey\" stroke=\"black\" d=\"M141.5,-182C141.5,-182 90.5,-182 90.5,-182 84.5,-182 78.5,-176 78.5,-170 78.5,-170 78.5,-158 78.5,-158 78.5,-152 84.5,-146 90.5,-146 90.5,-146 141.5,-146 141.5,-146 147.5,-146 153.5,-152 153.5,-158 153.5,-158 153.5,-170 153.5,-170 153.5,-176 147.5,-182 141.5,-182\"/>\n",
       "<text text-anchor=\"middle\" x=\"116\" y=\"-160.3\" font-family=\"arial\" font-size=\"14.00\">catalogue</text>\n",
       "</g>\n",
       "<!-- SEAGLE&#45;&gt;catalogue -->\n",
       "<g id=\"edge3\" class=\"edge\">\n",
       "<title>SEAGLE&#45;&gt;catalogue</title>\n",
       "<path fill=\"none\" stroke=\"black\" d=\"M116,-110.3C116,-118.02 116,-127.29 116,-135.89\"/>\n",
       "<polygon fill=\"black\" stroke=\"black\" points=\"112.5,-135.9 116,-145.9 119.5,-135.9 112.5,-135.9\"/>\n",
       "</g>\n",
       "<!-- hydrodynamical_simulations -->\n",
       "<g id=\"node3\" class=\"node\">\n",
       "<title>hydrodynamical_simulations</title>\n",
       "<path fill=\"red\" stroke=\"black\" d=\"M100,-38C100,-38 12,-38 12,-38 6,-38 0,-32 0,-26 0,-26 0,-12 0,-12 0,-6 6,0 12,0 12,0 100,0 100,0 106,0 112,-6 112,-12 112,-12 112,-26 112,-26 112,-32 106,-38 100,-38\"/>\n",
       "<text text-anchor=\"middle\" x=\"56\" y=\"-22.8\" font-family=\"arial\" font-size=\"14.00\">hydrodynamical</text>\n",
       "<text text-anchor=\"middle\" x=\"56\" y=\"-7.8\" font-family=\"arial\" font-size=\"14.00\">simulations</text>\n",
       "</g>\n",
       "<!-- hydrodynamical_simulations&#45;&gt;SEAGLE -->\n",
       "<g id=\"edge1\" class=\"edge\">\n",
       "<title>hydrodynamical_simulations&#45;&gt;SEAGLE</title>\n",
       "<path fill=\"none\" stroke=\"black\" d=\"M71.45,-38.28C78.65,-46.8 87.32,-57.06 95.09,-66.26\"/>\n",
       "<polygon fill=\"black\" stroke=\"black\" points=\"92.5,-68.62 101.63,-74 97.85,-64.1 92.5,-68.62\"/>\n",
       "</g>\n",
       "<!-- observations -->\n",
       "<g id=\"node4\" class=\"node\">\n",
       "<title>observations</title>\n",
       "<path fill=\"red\" stroke=\"black\" d=\"M211.5,-37C211.5,-37 142.5,-37 142.5,-37 136.5,-37 130.5,-31 130.5,-25 130.5,-25 130.5,-13 130.5,-13 130.5,-7 136.5,-1 142.5,-1 142.5,-1 211.5,-1 211.5,-1 217.5,-1 223.5,-7 223.5,-13 223.5,-13 223.5,-25 223.5,-25 223.5,-31 217.5,-37 211.5,-37\"/>\n",
       "<text text-anchor=\"middle\" x=\"177\" y=\"-15.3\" font-family=\"arial\" font-size=\"14.00\">observations</text>\n",
       "</g>\n",
       "<!-- observations&#45;&gt;SEAGLE -->\n",
       "<g id=\"edge2\" class=\"edge\">\n",
       "<title>observations&#45;&gt;SEAGLE</title>\n",
       "<path fill=\"none\" stroke=\"black\" d=\"M162.23,-37.19C154.74,-45.91 145.5,-56.66 137.26,-66.25\"/>\n",
       "<polygon fill=\"black\" stroke=\"black\" points=\"134.49,-64.11 130.63,-73.97 139.8,-68.67 134.49,-64.11\"/>\n",
       "</g>\n",
       "</g>\n",
       "</svg>\n"
      ],
      "text/plain": [
       "<graphviz.dot.Digraph at 0x7f92e9e6a208>"
      ]
     },
     "execution_count": 40,
     "metadata": {},
     "output_type": "execute_result"
    }
   ],
   "source": [
    "catcompile.graphviz()"
   ]
  },
  {
   "cell_type": "code",
   "execution_count": null,
   "metadata": {},
   "outputs": [],
   "source": []
  }
 ],
 "metadata": {
  "kernelspec": {
   "display_name": "Python 3.7.0 64-bit",
   "language": "python",
   "name": "python37064bit3dcedb51a30e4f629d1860ccacfb3c9b"
  },
  "language_info": {
   "codemirror_mode": {
    "name": "ipython",
    "version": 3
   },
   "file_extension": ".py",
   "mimetype": "text/x-python",
   "name": "python",
   "nbconvert_exporter": "python",
   "pygments_lexer": "ipython3",
   "version": "3.7.0"
  }
 },
 "nbformat": 4,
 "nbformat_minor": 2
}
