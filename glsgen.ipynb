{
 "cells": [
  {
   "cell_type": "markdown",
   "metadata": {},
   "source": [
    "# Inspect lenses and generate GLASS configs"
   ]
  },
  {
   "cell_type": "markdown",
   "metadata": {},
   "source": [
    "## Imports"
   ]
  },
  {
   "cell_type": "code",
   "execution_count": null,
   "metadata": {},
   "outputs": [],
   "source": [
    "import sys\n",
    "import os\n",
    "import pprint\n",
    "import json\n",
    "import numpy as np\n",
    "import matplotlib.pyplot as plt\n",
    "import ipywidgets as widgets\n",
    "\n",
    "from astropy.io import fits\n",
    "from astropy.wcs import WCS\n",
    "from astropy.nddata import Cutout2D\n",
    "\n",
    "root = \"/Users/phdenzel/gleam\"\n",
    "sys.path.append(root)\n",
    "import gleam\n",
    "from gleam.lensobject import LensObject\n",
    "from gleam.multilens import MultiLens\n",
    "from gleam.utils.plotting import IPColorbar, IPPointCache\n",
    "import gleam.utils.colors as gcl\n",
    "gcl.GLEAMcmaps.register_all()"
   ]
  },
  {
   "cell_type": "markdown",
   "metadata": {},
   "source": [
    "## Main"
   ]
  },
  {
   "cell_type": "markdown",
   "metadata": {},
   "source": [
    "### Search for a fits file"
   ]
  },
  {
   "cell_type": "code",
   "execution_count": null,
   "metadata": {},
   "outputs": [],
   "source": [
    "fidx = 0\n",
    "files = !ls data/*[0-9].fits\n",
    "pprint.pprint(files)\n",
    "filename = files[fidx]\n",
    "lensname = os.path.basename(filename).split('.')[0]\n",
    "print(\"Selected file: {}\".format(lensname))"
   ]
  },
  {
   "cell_type": "markdown",
   "metadata": {},
   "source": [
    "### Read fits file"
   ]
  },
  {
   "cell_type": "code",
   "execution_count": null,
   "metadata": {},
   "outputs": [],
   "source": [
    "hdu = fits.open(filename)\n",
    "hdu[0].header"
   ]
  },
  {
   "cell_type": "code",
   "execution_count": null,
   "metadata": {
    "scrolled": false
   },
   "outputs": [],
   "source": [
    "lo = LensObject(filename, auto=False, glscfactory_options={})\n",
    "print(lo.__v__)"
   ]
  },
  {
   "cell_type": "code",
   "execution_count": null,
   "metadata": {},
   "outputs": [],
   "source": [
    "if 'ORIENTAT' in lo.hdr:\n",
    "    orientat = lo.hdr['ORIENTAT']\n",
    "else:\n",
    "    orientat = 0\n",
    "orientat"
   ]
  },
  {
   "cell_type": "markdown",
   "metadata": {},
   "source": [
    "### Define lensed images"
   ]
  },
  {
   "cell_type": "code",
   "execution_count": null,
   "metadata": {
    "scrolled": false
   },
   "outputs": [],
   "source": [
    "%matplotlib notebook\n",
    "\n",
    "fig, ax = plt.subplots()\n",
    "fig, ax, plt_out = lo.plot_f(fig, ax=ax, cmap=gcl.GLEAMcmaps.vilux, colorbar=True,\n",
    "                             vmin=0, vmax=0.5*np.max(lo.data), source_images=False,\n",
    "                             deconv=False, psf=np.ones((3, 3))/25.)\n",
    "clrbar = IPColorbar(plt_out[1], plt_out[0])\n",
    "clrbar.connect()\n",
    "cache = IPPointCache(plt_out[0])\n",
    "cid = cache.connect()"
   ]
  },
  {
   "cell_type": "code",
   "execution_count": null,
   "metadata": {
    "scrolled": true
   },
   "outputs": [],
   "source": [
    "if cache.xy:\n",
    "    subj = cache.modes.index('L')\n",
    "    lens_pos = cache.xy[subj]\n",
    "    limg_pos = cache.xy[:subj] + cache.xy[subj+1:]\n",
    "    \n",
    "    print(lens_pos)\n",
    "    print(limg_pos)"
   ]
  },
  {
   "cell_type": "code",
   "execution_count": null,
   "metadata": {},
   "outputs": [],
   "source": [
    "# add lens and lensed image positions to lens object\n",
    "print(lens_pos)\n",
    "print(limg_pos)\n",
    "# lo.lens = lo.center\n",
    "# for img in info['srcimgs']:\n",
    "#     lo.add_srcimg(lo.lens.xy+img/lo.px2arcsec, unit='pixel', relative=True)"
   ]
  },
  {
   "cell_type": "code",
   "execution_count": null,
   "metadata": {},
   "outputs": [],
   "source": [
    "%matplotlib notebook\n",
    "\n",
    "fig, ax = plt.subplots()\n",
    "fig, ax, plt_out = lo.plot_f(fig, ax=ax, cmap=gcl.GLEAMcmaps.vilux, colorbar=True,\n",
    "                             vmin=0, vmax=0.5*np.max(lo.data), source_images=True,\n",
    "                             deconv=False, psf=np.ones((3, 3))/25.)\n",
    "clrbar = IPColorbar(plt_out[1], plt_out[0])\n",
    "clrbar.connect()"
   ]
  },
  {
   "cell_type": "code",
   "execution_count": null,
   "metadata": {},
   "outputs": [],
   "source": [
    "print(lo.__v__)"
   ]
  },
  {
   "cell_type": "markdown",
   "metadata": {},
   "source": [
    "### Save GLASS configs"
   ]
  },
  {
   "cell_type": "code",
   "execution_count": null,
   "metadata": {
    "scrolled": false
   },
   "outputs": [],
   "source": [
    "%%script false\n",
    "lo.glscfactory.sync_lens_params()\n",
    "configs = lo.glscfactory.config['single']\n",
    "print(\"\".join(configs))"
   ]
  },
  {
   "cell_type": "code",
   "execution_count": null,
   "metadata": {},
   "outputs": [],
   "source": [
    "%%script false\n",
    "savename = \"{}.gls\".format(lensname)\n",
    "lo.glscfactory.write(filename=savename)"
   ]
  }
 ],
 "metadata": {
  "kernelspec": {
   "display_name": "Python 2",
   "language": "python",
   "name": "python2"
  },
  "language_info": {
   "codemirror_mode": {
    "name": "ipython",
    "version": 2
   },
   "file_extension": ".py",
   "mimetype": "text/x-python",
   "name": "python",
   "nbconvert_exporter": "python",
   "pygments_lexer": "ipython2",
   "version": "2.7.15"
  }
 },
 "nbformat": 4,
 "nbformat_minor": 2
}
